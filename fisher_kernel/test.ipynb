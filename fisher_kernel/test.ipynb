{
 "cells": [
  {
   "cell_type": "code",
   "execution_count": 1,
   "metadata": {},
   "outputs": [
    {
     "name": "stdout",
     "output_type": "stream",
     "text": [
      "이 장치에서 MPS(GPU 가속)를 사용할 수 있습니다.\n"
     ]
    }
   ],
   "source": [
    "import torch\n",
    "def check_mps_availability():\n",
    "    # MPS 사용 가능 여부를 확인합니다.\n",
    "    if torch.backends.mps.is_available():\n",
    "        print(\"이 장치에서 MPS(GPU 가속)를 사용할 수 있습니다.\")\n",
    "    else:\n",
    "        print(\"MPS를 사용할 수 없습니다. CPU를 사용합니다.\")\n",
    "\n",
    "#  GPU 사용 가능 여부를 확인합니다.\n",
    "check_mps_availability()"
   ]
  },
  {
   "cell_type": "code",
   "execution_count": null,
   "metadata": {},
   "outputs": [],
   "source": []
  }
 ],
 "metadata": {
  "kernelspec": {
   "display_name": "Python 3.12.2 ('torch-gpu')",
   "language": "python",
   "name": "python3"
  },
  "language_info": {
   "codemirror_mode": {
    "name": "ipython",
    "version": 3
   },
   "file_extension": ".py",
   "mimetype": "text/x-python",
   "name": "python",
   "nbconvert_exporter": "python",
   "pygments_lexer": "ipython3",
   "version": "3.12.2"
  },
  "orig_nbformat": 4,
  "vscode": {
   "interpreter": {
    "hash": "652d9c878910970460809429ea4d514d2a6a5411db410063005e82113ebfc1c4"
   }
  }
 },
 "nbformat": 4,
 "nbformat_minor": 2
}
