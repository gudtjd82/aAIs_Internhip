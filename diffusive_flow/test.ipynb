{
 "cells": [
  {
   "cell_type": "code",
   "execution_count": null,
   "metadata": {},
   "outputs": [],
   "source": [
    "import matplotlib.pyplot as plt\n",
    "import numpy as np\n",
    "import matplotlib.animation as animation\n",
    "import torch\n",
    "import torch.nn as nn\n",
    "\n"
   ]
  },
  {
   "cell_type": "code",
   "execution_count": null,
   "metadata": {},
   "outputs": [],
   "source": [
    "# device = torch.device('cuda' if torch.cuda.is_available else 'cpu')\n",
    "device = torch.device('cuda' if torch.cuda.is_available() else 'cpu')\n",
    "device"
   ]
  },
  {
   "cell_type": "code",
   "execution_count": 51,
   "metadata": {},
   "outputs": [
    {
     "name": "stdout",
     "output_type": "stream",
     "text": [
      "embeddings: tensor([[0.7011],\n",
      "        [0.7011],\n",
      "        [0.7011],\n",
      "        [0.7011],\n",
      "        [0.7011],\n",
      "        [0.7011],\n",
      "        [0.7011],\n",
      "        [0.7011],\n",
      "        [0.7011],\n",
      "        [0.7011],\n",
      "        [0.7011],\n",
      "        [0.7011],\n",
      "        [0.7011],\n",
      "        [0.7011],\n",
      "        [0.7011],\n",
      "        [0.7011],\n",
      "        [0.7011],\n",
      "        [0.7011],\n",
      "        [0.7011],\n",
      "        [0.7011],\n",
      "        [0.7011],\n",
      "        [0.7011],\n",
      "        [0.7011],\n",
      "        [0.7011],\n",
      "        [0.7011],\n",
      "        [0.7011],\n",
      "        [0.7011],\n",
      "        [0.7011],\n",
      "        [0.7011],\n",
      "        [0.7011],\n",
      "        [0.7011],\n",
      "        [0.7011],\n",
      "        [0.7011],\n",
      "        [0.7011],\n",
      "        [0.7011],\n",
      "        [0.7011],\n",
      "        [0.7011],\n",
      "        [0.7011],\n",
      "        [0.7011],\n",
      "        [0.7011],\n",
      "        [0.7011],\n",
      "        [0.7011],\n",
      "        [0.7011],\n",
      "        [0.7011],\n",
      "        [0.7011],\n",
      "        [0.7011],\n",
      "        [0.7011],\n",
      "        [0.7011],\n",
      "        [0.7011],\n",
      "        [0.7011],\n",
      "        [0.7011],\n",
      "        [0.7011],\n",
      "        [0.7011],\n",
      "        [0.7011],\n",
      "        [0.7011],\n",
      "        [0.7011],\n",
      "        [0.7011],\n",
      "        [0.7011],\n",
      "        [0.7011],\n",
      "        [0.7011],\n",
      "        [0.7011],\n",
      "        [0.7011],\n",
      "        [0.7011],\n",
      "        [0.7011],\n",
      "        [0.7011],\n",
      "        [0.7011],\n",
      "        [0.7011],\n",
      "        [0.7011],\n",
      "        [0.7011],\n",
      "        [0.7011],\n",
      "        [0.7011],\n",
      "        [0.7011],\n",
      "        [0.7011],\n",
      "        [0.7011],\n",
      "        [0.7011],\n",
      "        [0.7011],\n",
      "        [0.7011],\n",
      "        [0.7011],\n",
      "        [0.7011],\n",
      "        [0.7011],\n",
      "        [0.7011],\n",
      "        [0.7011],\n",
      "        [0.7011],\n",
      "        [0.7011],\n",
      "        [0.7011],\n",
      "        [0.7011],\n",
      "        [0.7011],\n",
      "        [0.7011],\n",
      "        [0.7011],\n",
      "        [0.7011],\n",
      "        [0.7011],\n",
      "        [0.7011],\n",
      "        [0.7011],\n",
      "        [0.7011],\n",
      "        [0.7011],\n",
      "        [0.7011],\n",
      "        [0.7011],\n",
      "        [0.7011],\n",
      "        [0.7011],\n",
      "        [0.7011]], grad_fn=<CopySlices>)\n"
     ]
    }
   ],
   "source": [
    "data = torch.ones(100, 2)\n",
    "t = 3\n",
    "embedding = nn.Embedding(num_embeddings=100, embedding_dim=1)\n",
    "\n",
    "t_tensor = torch.full((100, 1), t)\n",
    "embedded_t = embedding(t_tensor)\n",
    "\n",
    "embeddings_t = torch.ones((100, 1))\n",
    "for i in range(100):\n",
    "            embeddings_t[i] = embedding(torch.tensor(t))\n",
    "print(\"embeddings: {}\".format(embeddings_t))\n",
    "# print(embedded_t)\n"
   ]
  },
  {
   "cell_type": "code",
   "execution_count": null,
   "metadata": {},
   "outputs": [],
   "source": []
  }
 ],
 "metadata": {
  "kernelspec": {
   "display_name": "Python 3.12.2 ('torch-gpu')",
   "language": "python",
   "name": "python3"
  },
  "language_info": {
   "codemirror_mode": {
    "name": "ipython",
    "version": 3
   },
   "file_extension": ".py",
   "mimetype": "text/x-python",
   "name": "python",
   "nbconvert_exporter": "python",
   "pygments_lexer": "ipython3",
   "version": "3.12.2"
  },
  "vscode": {
   "interpreter": {
    "hash": "652d9c878910970460809429ea4d514d2a6a5411db410063005e82113ebfc1c4"
   }
  }
 },
 "nbformat": 4,
 "nbformat_minor": 2
}
