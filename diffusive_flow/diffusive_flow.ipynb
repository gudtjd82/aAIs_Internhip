{
 "cells": [
  {
   "cell_type": "markdown",
   "metadata": {},
   "source": [
    "# Diffusive Flow"
   ]
  },
  {
   "cell_type": "code",
   "execution_count": 1,
   "metadata": {},
   "outputs": [],
   "source": [
    "import random\n",
    "import numpy as np\n",
    "import torch\n",
    "import torch.nn.functional as F\n",
    "import torch.nn as nn\n",
    "\n",
    "import torch.optim as optim\n",
    "from torch.utils.data import Dataset, DataLoader\n",
    "import torchvision\n",
    "import torchvision.transforms as transforms\n",
    "import torch.optim as optim\n",
    "\n",
    "import matplotlib.pyplot as plt\n",
    "import matplotlib.patches as patches\n",
    "from torchvision.utils import save_image, make_grid\n",
    "\n",
    "import math\n"
   ]
  },
  {
   "cell_type": "code",
   "execution_count": 2,
   "metadata": {},
   "outputs": [
    {
     "data": {
      "text/plain": [
       "device(type='mps')"
      ]
     },
     "execution_count": 2,
     "metadata": {},
     "output_type": "execute_result"
    }
   ],
   "source": [
    "# device = torch.device('cuda' if torch.cuda.is_available else 'cpu')\n",
    "device = torch.device('mps' if torch.backends.mps.is_available() else 'cpu')\n",
    "device"
   ]
  },
  {
   "cell_type": "code",
   "execution_count": 3,
   "metadata": {},
   "outputs": [],
   "source": [
    "def draw_data(data, title_str='Data'):\n",
    "    # function for scattering data\n",
    "\n",
    "    # create a figure and axis\n",
    "    fig, ax = plt.subplots()\n",
    "\n",
    "    # Scatter data points in 2-dimensional space\n",
    "    ax.scatter(data[:,0], data[:,1], label='data', c='blue', alpha=1)\n",
    "    # set a title and labels\n",
    "    ax.set_title(title_str)"
   ]
  },
  {
   "cell_type": "code",
   "execution_count": 4,
   "metadata": {},
   "outputs": [],
   "source": [
    "def draw_vector_field(points, vectors, title_str=\"vector field\", lim=None):\n",
    "    fig, ax = plt.subplots(figsize=(7, 7))\n",
    "\n",
    "    x = points[:,0]\n",
    "    y = points[:,1]\n",
    "    x_v = vectors[:,0]\n",
    "    y_v = vectors[:,1]\n",
    "\n",
    "    plt.quiver(x, y, x_v, y_v, color=\"blue\", angles='xy', scale_units='xy', headwidth=2, scale=2.1, alpha=.7)\n",
    "\n",
    "    if lim is None:\n",
    "        x_min = min(x.min(), (x + x_v).min())\n",
    "        x_max = max(x.max(), (x + x_v).max())\n",
    "        y_min = min(y.min(), (y + y_v).min())\n",
    "        y_max = max(y.max(), (y + y_v).max())\n",
    "\n",
    "        padding = .3\n",
    "        plt.xlim(x_min - padding, x_max + padding)\n",
    "        plt.ylim(y_min - padding, y_max + padding)\n",
    "    else:\n",
    "        plt.xlim(-lim, lim)\n",
    "        plt.ylim(-lim, lim)\n",
    "\n",
    "    ax.set_title(title_str)\n",
    "\n",
    "    plt.grid()\n",
    "    plt.show()"
   ]
  },
  {
   "cell_type": "code",
   "execution_count": 5,
   "metadata": {},
   "outputs": [],
   "source": [
    "# t 값에 따라 layer connect가 달라지도록 Neural net 설계\n",
    "class MaskedLinear(nn.Linear):\n",
    "    def __init__(self, in_features, out_features, mask):\n",
    "        super(MaskedLinear, self).__init__(in_features, out_features)\n",
    "        self.mask = mask\n",
    "    \n",
    "    def forward(self, input):\n",
    "        masked_w = self.weight * self.mask\n",
    "        return nn.functional.linear(input, masked_w, self.bias)\n",
    "\n",
    "class MyModel(nn.Module):\n",
    "    def __init__(self):\n",
    "        super(MyModel, self).__init__()\n",
    "        self.layers = nn.Sequential(\n",
    "            nn.Linear(1, 32),\n",
    "            nn.ReLU(),\n",
    "            nn.Linear(32, 256),\n",
    "            nn.ReLU(),\n",
    "            nn.Linear(256, 32 * 32 * 2),\n",
    "            nn.ReLU(),\n",
    "            nn.Linear(32 * 32 * 2, 32 * 32 * 2),\n",
    "        )\n",
    "        \n",
    "    def forward(self, t):\n",
    "        t = torch.tensor([t], dtype=torch.float)\n",
    "        t = t.view(-1, 1)\n",
    "        out = self.layers(t)\n",
    "        out = out.view(32 * 32, 2)\n",
    "        return out\n",
    "        "
   ]
  },
  {
   "cell_type": "code",
   "execution_count": 6,
   "metadata": {},
   "outputs": [],
   "source": [
    "class diffuse(nn.Module):\n",
    "    def __init__(self, n_steps=200, min_beta=10 ** -4, max_beta=0.02, device=None):\n",
    "        super(diffuse, self).__init__()\n",
    "        self.n_steps = n_steps\n",
    "        self.device = device\n",
    "        self.betas = torch.linspace(min_beta, max_beta, n_steps).to(\n",
    "            device)\n",
    "        self.alphas = 1 - self.betas\n",
    "        self.alpha_bars = torch.tensor([torch.prod(self.alphas[:i + 1]) for i in range(len(self.alphas))]).to(device)\n",
    "\n",
    "    def forward(self, data, t, eta=None):\n",
    "        # x_0 -> x_t\n",
    "        n, d = data.shape\n",
    "        a_bar = self.alpha_bars[t]\n",
    "\n",
    "        if eta is None:\n",
    "            eta = torch.randn(n, d).to(self.device)\n",
    "\n",
    "        noisy = a_bar.sqrt().view(-1,1) * data + (1 - a_bar).sqrt().view(-1,1) * eta\n",
    "\n",
    "        ## x_t -> x_t+1\n",
    "        # data = data.to(self.device)\n",
    "        # n, d = data.shape\n",
    "        # beta = self.betas[t].to(self.device)\n",
    "\n",
    "        # if eta is None:\n",
    "        #     eta = torch.randn(n, d).to(self.device)\n",
    "\n",
    "        # noisy = (1-beta).sqrt().view(-1, 1) * data + beta.sqrt().view(-1, 1) * eta\n",
    "        return noisy"
   ]
  },
  {
   "cell_type": "code",
   "execution_count": 7,
   "metadata": {},
   "outputs": [],
   "source": [
    "def normalize_vector_field(vectors):\n",
    "    # print(vectors)\n",
    "    norms = torch.norm(vectors, p=2, dim=1, keepdim=True)\n",
    "    # print(norms)\n",
    "    for i, norm in enumerate(norms):\n",
    "        if norm <= 3e-3:\n",
    "            norms[i] = 0.\n",
    "        # elif norm >= 1e-3:\n",
    "        #     print(norm)\n",
    "    \n",
    "    mask = (norms != 0).expand_as(vectors)\n",
    "    norms = norms.expand_as(vectors)\n",
    "    normalized_v = torch.zeros_like(vectors)\n",
    "    normalized_v[mask] = vectors[mask] / norms[mask]\n",
    "\n",
    "    return normalized_v"
   ]
  },
  {
   "cell_type": "code",
   "execution_count": 8,
   "metadata": {},
   "outputs": [],
   "source": [
    "# x_t에서의 velocity vector data 생성 (normalized vectors)\n",
    "def make_vectors(diffuse, data, t):\n",
    "    data = data.to(device)\n",
    "    eta = torch.randn_like(data).to(device)\n",
    "\n",
    "    noisy_data = diffuse(data, t, eta).to(device)\n",
    "    v = noisy_data-data\n",
    "\n",
    "    return noisy_data, v"
   ]
  },
  {
   "cell_type": "code",
   "execution_count": 9,
   "metadata": {},
   "outputs": [],
   "source": [
    "def make_vector_field(grid_points, data, vectors, radius=.3):\n",
    "    grid_points = grid_points.cpu()\n",
    "    data = data.cpu()\n",
    "\n",
    "    vector_field = torch.zeros_like(grid_points)\n",
    "\n",
    "    for i, point in enumerate(grid_points):\n",
    "        distances = torch.norm(data-point, dim=1)\n",
    "        mask = (distances <= radius)\n",
    "        neighbor_vs = vectors[mask]\n",
    "\n",
    "        if neighbor_vs.size(0) > 0:\n",
    "            vector_field[i] = neighbor_vs.mean(dim=0)\n",
    "    \n",
    "    vector_field = normalize_vector_field(vector_field)\n",
    "\n",
    "    return vector_field"
   ]
  },
  {
   "cell_type": "code",
   "execution_count": 10,
   "metadata": {},
   "outputs": [],
   "source": [
    "def training_model(epochs, grid_points, data, diffuse, m, device):\n",
    "    all_losses = torch.zeros(diffuse.n_steps, 1, device=device, dtype=torch.float32)\n",
    "    for t in range(diffuse.n_steps):\n",
    "        criterion = nn.MSELoss()\n",
    "        optimizer = optim.SGD(m.parameters(), lr=0.002)\n",
    "        # losses_t = torch.zeros(epochs, device=device)\n",
    "        loss_t = 0\n",
    "        x = data.to(device)\n",
    "        for epoch in range(epochs):\n",
    "            optimizer.zero_grad()\n",
    "\n",
    "            x,v = make_vectors(diffuse, x, t)\n",
    "            vf = make_vector_field(grid_points, data, v)\n",
    "            \n",
    "            vf_pred = m(t).to(device)\n",
    "\n",
    "            mask_zero = (vf == 0).all(dim=1)\n",
    "            zero_loss = (vf_pred[mask_zero] ** 2).sum()\n",
    "            loss = criterion(vf_pred.to(device), vf.to(device)) + zero_loss*1.5\n",
    "\n",
    "            if epoch == epochs-1:\n",
    "                print(\"t: {}, epoch: {}, loss: {}\".format(t, epoch, loss.item()))\n",
    "\n",
    "            # losses_t[epoch] = loss.item()\n",
    "            loss_t = loss.item()\n",
    "            loss.backward()\n",
    "\n",
    "            optimizer.step()\n",
    "            \n",
    "        all_losses[t,0] = loss_t\n",
    "    \n",
    "    return all_losses\n"
   ]
  },
  {
   "cell_type": "code",
   "execution_count": 11,
   "metadata": {},
   "outputs": [],
   "source": [
    "# Defining diffuse\n",
    "n_steps, min_beta, max_beta = 20, 10 ** -4, 0.02\n",
    "input_dim=2\n",
    "output_dim=2\n",
    "\n",
    "d = diffuse(n_steps=n_steps, min_beta=min_beta, max_beta=max_beta, device=device)"
   ]
  },
  {
   "cell_type": "code",
   "execution_count": 12,
   "metadata": {},
   "outputs": [
    {
     "name": "stderr",
     "output_type": "stream",
     "text": [
      "/Users/psh/anaconda3/envs/torch-gpu/lib/python3.12/site-packages/torch/functional.py:512: UserWarning: torch.meshgrid: in an upcoming release, it will be required to pass the indexing argument. (Triggered internally at /Users/runner/work/_temp/anaconda/conda-bld/pytorch_1716905753432/work/aten/src/ATen/native/TensorShape.cpp:3588.)\n",
      "  return _VF.meshgrid(tensors, **kwargs)  # type: ignore[attr-defined]\n"
     ]
    }
   ],
   "source": [
    "# 격자 점 생성\n",
    "x = torch.linspace(-8, 8, 32)\n",
    "y = torch.linspace(-8, 8, 32)\n",
    "X, Y = torch.meshgrid(x, y)\n",
    "grid_points = torch.stack([X.flatten(), Y.flatten()], dim=1)"
   ]
  },
  {
   "cell_type": "markdown",
   "metadata": {},
   "source": [
    "## Gaussian data (1)"
   ]
  },
  {
   "cell_type": "code",
   "execution_count": 13,
   "metadata": {},
   "outputs": [],
   "source": [
    "# generate a Gaussian data\n",
    "dim = 2\n",
    "datanum = 200\n",
    "mean = np.array([0, 0])\n",
    "cov = np.array([[2,.01],[.01,2]])\n",
    "\n",
    "data1 = np.random.multivariate_normal(mean, cov, datanum)\n",
    "data1 = torch.from_numpy(data1).float()"
   ]
  },
  {
   "cell_type": "code",
   "execution_count": 14,
   "metadata": {},
   "outputs": [
    {
     "data": {
      "image/png": "[encoded data removed]",
      "text/plain": [
       "<Figure size 640x480 with 1 Axes>"
      ]
     },
     "metadata": {},
     "output_type": "display_data"
    }
   ],
   "source": [
    "draw_data(data1.cpu(), title_str='Data')\n",
    "lim = 8\n",
    "plt.xlim(-lim, lim)\n",
    "plt.ylim(-lim, lim)\n",
    "plt.grid(True)"
   ]
  },
  {
   "cell_type": "code",
   "execution_count": 15,
   "metadata": {},
   "outputs": [
    {
     "data": {
      "image/png": "[encoded data removed]",
      "text/plain": [
       "<Figure size 640x480 with 1 Axes>"
      ]
     },
     "metadata": {},
     "output_type": "display_data"
    }
   ],
   "source": [
    "draw_data(grid_points.cpu(), title_str='Grid_points')\n",
    "plt.grid(True)"
   ]
  },
  {
   "cell_type": "code",
   "execution_count": 16,
   "metadata": {},
   "outputs": [],
   "source": [
    "# defining model\n",
    "m1 = MyModel()"
   ]
  },
  {
   "cell_type": "code",
   "execution_count": 17,
   "metadata": {},
   "outputs": [
    {
     "name": "stdout",
     "output_type": "stream",
     "text": [
      "t: 0, epoch: 0, loss: 5.495113849639893\n",
      "t: 0, epoch: 100, loss: 0.0489535816013813\n",
      "t: 0, epoch: 200, loss: 0.048476945608854294\n",
      "t: 0, epoch: 300, loss: 0.04150766879320145\n",
      "t: 0, epoch: 400, loss: 0.045579589903354645\n",
      "t: 0, epoch: 500, loss: 0.04344518482685089\n",
      "t: 0, epoch: 600, loss: 0.04261009022593498\n",
      "t: 1, epoch: 0, loss: 2.2523138523101807\n",
      "t: 1, epoch: 100, loss: 0.04883614927530289\n",
      "t: 1, epoch: 200, loss: 0.04674176126718521\n",
      "t: 1, epoch: 300, loss: 0.0469532310962677\n",
      "t: 1, epoch: 400, loss: 0.046664733439683914\n",
      "t: 1, epoch: 500, loss: 0.046511780470609665\n",
      "t: 1, epoch: 600, loss: 0.046982720494270325\n",
      "t: 2, epoch: 0, loss: 1.8911657333374023\n",
      "t: 2, epoch: 100, loss: 0.047785740345716476\n",
      "t: 2, epoch: 200, loss: 0.04734650254249573\n",
      "t: 2, epoch: 300, loss: 0.047105465084314346\n",
      "t: 2, epoch: 400, loss: 0.046619631350040436\n",
      "t: 2, epoch: 500, loss: 0.04646889492869377\n",
      "t: 2, epoch: 600, loss: 0.047192707657814026\n",
      "t: 3, epoch: 0, loss: 1.0860180854797363\n",
      "t: 3, epoch: 100, loss: 0.04658105596899986\n",
      "t: 3, epoch: 200, loss: 0.04692554101347923\n",
      "t: 3, epoch: 300, loss: 0.05380628630518913\n",
      "t: 3, epoch: 400, loss: 0.0471169650554657\n",
      "t: 3, epoch: 500, loss: 0.04624684527516365\n",
      "t: 3, epoch: 600, loss: 0.0470348559319973\n",
      "t: 4, epoch: 0, loss: 0.6551887392997742\n",
      "t: 4, epoch: 100, loss: 0.048041291534900665\n",
      "t: 4, epoch: 200, loss: 0.047141194343566895\n",
      "t: 4, epoch: 300, loss: 0.047278959304094315\n",
      "t: 4, epoch: 400, loss: 0.047020476311445236\n",
      "t: 4, epoch: 500, loss: 0.04746550694108009\n",
      "t: 4, epoch: 600, loss: 0.046950504183769226\n",
      "t: 5, epoch: 0, loss: 0.4422415792942047\n",
      "t: 5, epoch: 100, loss: 0.04674066603183746\n",
      "t: 5, epoch: 200, loss: 0.04686133190989494\n",
      "t: 5, epoch: 300, loss: 0.04762604460120201\n",
      "t: 5, epoch: 400, loss: 0.04653574153780937\n",
      "t: 5, epoch: 500, loss: 0.04693949967622757\n",
      "t: 5, epoch: 600, loss: 0.04754699021577835\n",
      "t: 6, epoch: 0, loss: 0.31398189067840576\n",
      "t: 6, epoch: 100, loss: 0.04718346148729324\n"
     ]
    }
   ],
   "source": [
    "# 모델 학습\n",
    "epochs = 700\n",
    "\n",
    "all_losses = training_model(epochs, grid_points, data1, d, m1, device=device)"
   ]
  },
  {
   "cell_type": "code",
   "execution_count": null,
   "metadata": {},
   "outputs": [],
   "source": [
    "# for t, losses in enumerate(all_losses):\n",
    "#     plt.plot(range(epochs), losses)\n",
    "#     plt.title(\"Time step: {}\".format(t))\n",
    "#     plt.ylabel('Loss')\n",
    "#     plt.xlabel('Epoch')\n",
    "#     plt.show()\n",
    "#     print(\"Final loss at t={}: {}\".format(t, losses[-1]))\n",
    "\n",
    "for t, loss in enumerate(all_losses):\n",
    "    print(\"Final loss at t={}: {}\".format(t, loss))"
   ]
  },
  {
   "cell_type": "code",
   "execution_count": null,
   "metadata": {},
   "outputs": [],
   "source": [
    "# PATH = './diffusive_flow.pth'\n",
    "# torch.save(m.state_dict(), PATH)"
   ]
  },
  {
   "cell_type": "code",
   "execution_count": null,
   "metadata": {},
   "outputs": [],
   "source": [
    "# # diffused data (from t=0 to t=9) (비교용)\n",
    "# eta = torch.randn_like(data1).to(device)\n",
    "# x_curr = data1.to(device)\n",
    "# x_curr, v = make_vectors(d, x_curr, 0)\n",
    "\n",
    "# vf = make_vector_field(grid_points, data1, v)\n",
    "\n",
    "\n",
    "# draw_vector_field(grid_points.cpu(), vf.cpu(), title_str=\"diffused data - avg. vector field\")\n",
    "# i = 0\n",
    "# for v in vf:\n",
    "#     if v.norm() > 0:\n",
    "#         i += 1\n",
    "    \n",
    "# print(i)\n"
   ]
  },
  {
   "cell_type": "code",
   "execution_count": null,
   "metadata": {},
   "outputs": [],
   "source": [
    "# MyModel prediction 결과\n",
    "with torch.no_grad():\n",
    "    for t in d.n_steps:\n",
    "        outputs = m1(t)\n",
    "        normalized_out = normalize_vector_field(outputs)\n",
    "        \n",
    "        # draw_vector_field(grid_points.cpu(), outputs.cpu(),lim=9, title_str=\"predicted data\")\n",
    "        draw_vector_field(grid_points.cpu(), normalized_out.cpu(), title_str=\"predicted vector field at t={}\".format(t))\n",
    "\n",
    "    # i = 0\n",
    "    # for v in normalized_out:\n",
    "    #     if v.norm() > 0:\n",
    "    #         i += 1\n",
    "        \n",
    "    # print(i)\n",
    "\n",
    "  "
   ]
  },
  {
   "cell_type": "markdown",
   "metadata": {},
   "source": [
    "## Gaussian data (2)"
   ]
  },
  {
   "cell_type": "code",
   "execution_count": null,
   "metadata": {},
   "outputs": [],
   "source": [
    "# generate a Gaussian data\n",
    "dim = 2\n",
    "datanum = 200\n",
    "mean = np.array([7.5, 0])\n",
    "cov = np.array([[0, 3],[0, 3]])\n",
    "\n",
    "data2 = np.random.multivariate_normal(mean, cov, datanum)\n",
    "data2 = torch.from_numpy(data2).float()"
   ]
  },
  {
   "cell_type": "code",
   "execution_count": null,
   "metadata": {},
   "outputs": [],
   "source": [
    "draw_data(data2.cpu(), title_str='Data2')\n",
    "lim = 8\n",
    "plt.xlim(-lim, lim)\n",
    "plt.ylim(-lim, lim)\n",
    "plt.grid(True)"
   ]
  },
  {
   "cell_type": "code",
   "execution_count": null,
   "metadata": {},
   "outputs": [],
   "source": [
    "# defining model\n",
    "m2 = MyModel()"
   ]
  },
  {
   "cell_type": "code",
   "execution_count": null,
   "metadata": {},
   "outputs": [],
   "source": [
    "criterion = nn.MSELoss()\n",
    "optimizer = optim.SGD(m2.parameters(), lr=0.001)"
   ]
  },
  {
   "cell_type": "code",
   "execution_count": null,
   "metadata": {},
   "outputs": [],
   "source": [
    "# 모델 학습\n",
    "losses = losses = training_model(epochs, grid_points, data2, d, m2, device=device)"
   ]
  },
  {
   "cell_type": "code",
   "execution_count": null,
   "metadata": {},
   "outputs": [],
   "source": [
    "plt.plot(range(epochs), losses)\n",
    "plt.ylabel('Loss')\n",
    "plt.xlabel('Epoch')\n",
    "plt.show()\n",
    "\n",
    "print(losses[-1])"
   ]
  },
  {
   "cell_type": "code",
   "execution_count": null,
   "metadata": {},
   "outputs": [],
   "source": [
    "# diffused data (from t=0 to t=9) (비교용)\n",
    "eta = torch.randn_like(data2).to(device)\n",
    "x_curr = data2.to(device)\n",
    "# for t in range(n_steps):\n",
    "#     x_curr, v = make_vectors(d, x_curr, t)\n",
    "x_curr, v = make_vectors(d, x_curr, 0)\n",
    "\n",
    "vf = make_vector_field(grid_points, data2, v)\n",
    "\n",
    "# v = x_curr.to(device) - data2.to(device)\n",
    "# normalized_v = normalize_vector_field(v)\n",
    "\n",
    "draw_vector_field(grid_points.cpu(), vf.cpu(), title_str=\"diffused data - avg. vector field\")\n",
    "# draw_vector_field(data2.cpu(), normalized_v.cpu(), title_str=\"diffused data\")\n",
    "# draw_vector_field(data2.cpu(), v.cpu())\n",
    "i = 0\n",
    "for v in vf:\n",
    "    if v.norm() > 0:\n",
    "        i += 1\n",
    "    \n",
    "print(i)"
   ]
  },
  {
   "cell_type": "code",
   "execution_count": null,
   "metadata": {},
   "outputs": [],
   "source": [
    "with torch.no_grad():\n",
    "    outputs = m2(0)\n",
    "    normalized_out = normalize_vector_field(outputs)\n",
    "    \n",
    "    draw_vector_field(grid_points.cpu(), normalized_out.cpu(), title_str=\"predicted data\")\n",
    "    # draw_vector_field(data2.cpu(), outputs.cpu())\n",
    "\n",
    "    i = 0\n",
    "    for v in normalized_out:\n",
    "        if v.norm() > 0:\n",
    "            i += 1\n",
    "        \n",
    "    print(i)\n",
    "    "
   ]
  }
 ],
 "metadata": {
  "kernelspec": {
   "display_name": "Python 3.12.2 ('torch-gpu')",
   "language": "python",
   "name": "python3"
  },
  "language_info": {
   "codemirror_mode": {
    "name": "ipython",
    "version": 3
   },
   "file_extension": ".py",
   "mimetype": "text/x-python",
   "name": "python",
   "nbconvert_exporter": "python",
   "pygments_lexer": "ipython3",
   "version": "3.12.2"
  },
  "vscode": {
   "interpreter": {
    "hash": "652d9c878910970460809429ea4d514d2a6a5411db410063005e82113ebfc1c4"
   }
  }
 },
 "nbformat": 4,
 "nbformat_minor": 2
}
