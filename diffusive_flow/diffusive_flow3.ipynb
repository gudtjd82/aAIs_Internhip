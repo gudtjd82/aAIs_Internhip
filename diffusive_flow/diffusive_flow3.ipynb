{
 "cells": [
  {
   "cell_type": "code",
   "execution_count": 1,
   "metadata": {},
   "outputs": [],
   "source": [
    "import random\n",
    "import numpy as np\n",
    "import torch\n",
    "import torch.nn.functional as F\n",
    "import torch.nn as nn\n",
    "\n",
    "import torch.optim as optim\n",
    "from torch.utils.data import Dataset, DataLoader\n",
    "import torchvision\n",
    "import torchvision.transforms as transforms\n",
    "import torch.optim as optim\n",
    "\n",
    "import matplotlib.pyplot as plt\n",
    "import matplotlib.patches as patches\n",
    "\n",
    "import ipywidgets as widgets\n",
    "\n",
    "from torchvision.utils import save_image, make_grid\n",
    "\n",
    "from scipy.spatial import cKDTree\n"
   ]
  },
  {
   "cell_type": "code",
   "execution_count": 2,
   "metadata": {},
   "outputs": [
    {
     "data": {
      "text/plain": [
       "device(type='cuda')"
      ]
     },
     "execution_count": 2,
     "metadata": {},
     "output_type": "execute_result"
    }
   ],
   "source": [
    "device = torch.device('cuda' if torch.cuda.is_available else 'cpu')\n",
    "# device = torch.device('mps' if torch.backends.mps.is_available() else 'cpu')\n",
    "device"
   ]
  },
  {
   "cell_type": "code",
   "execution_count": 3,
   "metadata": {},
   "outputs": [],
   "source": [
    "class diffusive_flow(nn.Module):\n",
    "    def __init__(self):\n",
    "        super(diffusive_flow, self).__init__()\n",
    "        # self.t_range = t_range\n",
    "        # self.embedding = nn.Embedding(t_range, 1)\n",
    "        \n",
    "        self.layers = nn.Sequential(\n",
    "            nn.Linear(3, 20),\n",
    "            nn.ReLU(),\n",
    "            nn.Linear(20, 10),\n",
    "            nn.ReLU(),\n",
    "            nn.Linear(10, 10),\n",
    "            nn.ReLU(),\n",
    "            nn.Linear(10, 5),\n",
    "            nn.ReLU(),\n",
    "            nn.Linear(5, 5),\n",
    "            nn.ReLU(),\n",
    "            nn.Linear(5, 2),\n",
    "        )\n",
    "    \n",
    "    def forward(self, data, t):\n",
    "        x = data[0]\n",
    "        y = data[1]\n",
    "        embedded_t = self.embedding(torch.tensor(t))\n",
    "\n",
    "        x_y = torch.tensor([x, y])\n",
    "        concatenated = torch.cat((x_y, embedded_t), dim=0)\n",
    "\n",
    "        out = self.layers(concatenated)\n",
    "        return out\n",
    "\n",
    "model = diffusive_flow()"
   ]
  },
  {
   "cell_type": "code",
   "execution_count": 4,
   "metadata": {},
   "outputs": [],
   "source": [
    "# diffuse 관련 변수 및 함수 정의\n",
    "\n",
    "def make_alpha_bars(min_beta, max_beta, t_range, device=device):\n",
    "    betas = torch.linspace(min_beta, max_beta, t_range).to(device)\n",
    "    alphas = 1 - betas\n",
    "\n",
    "    return torch.tensor([torch.prod(alphas[:(i+1)]) for i in range(len(alphas))]).to(device)\n",
    "\n",
    "def diffuse_x0(x0, t, alpha_bars, eta=None, device=device):\n",
    "    n, d = x0.shape\n",
    "    a_bar = alpha_bars[t-1]\n",
    "\n",
    "    if eta is None:\n",
    "        eta = torch.randn(n, d).to(device)\n",
    "    \n",
    "    xT = a_bar.sqrt().view(-1,1) * x0 + (1 - a_bar).sqrt().view(-1,1) * eta\n",
    "\n",
    "    return xT"
   ]
  },
  {
   "cell_type": "code",
   "execution_count": 14,
   "metadata": {},
   "outputs": [],
   "source": [
    "# make vector field\n",
    "def vector_field(vectors, scale=0.5):\n",
    "    vf = vectors * scale\n",
    "    return vf"
   ]
  },
  {
   "cell_type": "code",
   "execution_count": 6,
   "metadata": {},
   "outputs": [],
   "source": [
    "# grid 생성\n",
    "def make_grid(lim, n, device=device):\n",
    "    x = np.linspace(-lim, lim, n)\n",
    "    y = np.linspace(-lim, lim, n)\n",
    "    X, Y = np.meshgrid(x, y)   # 20x20, 20x20\n",
    "    X = X.reshape([-1,1])   # 20^2 x 1\n",
    "    Y = Y.reshape([-1,1])   # 20^2 x 1\n",
    "\n",
    "    grid_points = np.concatenate([X, Y], axis=1)\n",
    "    return torch.tensor(grid_points, device=device, dtype=torch.float32)\n",
    "\n",
    "grid_points = make_grid(5, 20)"
   ]
  },
  {
   "cell_type": "code",
   "execution_count": 7,
   "metadata": {},
   "outputs": [],
   "source": [
    "def draw_data(data, lim, title_str='Data', color='blue'):\n",
    "    data = data.cpu()\n",
    "\n",
    "    plt.figure(figsize=(8, 6))\n",
    "    plt.scatter(data[:,0], data[:,1], label='data', c=color, alpha=1)\n",
    "    plt.xlim(-lim, lim)\n",
    "    plt.ylim(-lim, lim)\n",
    "    plt.xlabel('X')\n",
    "    plt.xlabel('Y')\n",
    "    plt.title(title_str)\n",
    "    plt.grid(True)\n",
    "    plt.show()"
   ]
  },
  {
   "cell_type": "code",
   "execution_count": 8,
   "metadata": {},
   "outputs": [],
   "source": [
    "def draw_vector_field(grid_points, vf, scale=5, color='blue', width=0.003, title='Vector Field'):\n",
    "    if isinstance(grid_points, torch.Tensor):\n",
    "        grid_points = grid_points.cpu().detach().numpy()\n",
    "    if isinstance(vf, torch.Tensor):\n",
    "        vf = vf.cpu().detach().numpy()\n",
    "        \n",
    "    X = grid_points[:, 0]\n",
    "    Y = grid_points[:, 1]\n",
    "    \n",
    "    U = vf[:, 0]\n",
    "    V = vf[:, 1]\n",
    "\n",
    "    plt.figure(figsize=(8, 6))\n",
    "    plt.quiver(X, Y, U, V, scale=scale, color=color, width=width)\n",
    "    plt.xlabel('X')\n",
    "    plt.xlabel('Y')\n",
    "    plt.title(title)\n",
    "    plt.grid(True)\n",
    "    plt.show()"
   ]
  },
  {
   "cell_type": "code",
   "execution_count": 25,
   "metadata": {},
   "outputs": [],
   "source": [
    "def make_training_data(grid_points, data, alpha_bars, t_range=200, max_distance=0.5, device=device):\n",
    "    x0 = data.to(device)\n",
    "    eta = torch.randn_like(x0).to(device)\n",
    "    vector_fields = []\n",
    "    xTs = []\n",
    "    for t in range(t_range):\n",
    "        xT = diffuse_x0(x0, t, alpha_bars, eta=eta)\n",
    "\n",
    "        tree = cKDTree(x0.detach().cpu().numpy())\n",
    "\n",
    "        if isinstance(grid_points, torch.Tensor):\n",
    "            grid_points = grid_points.detach().cpu().numpy()\n",
    "\n",
    "        avg_vecs = np.zeros_like(grid_points)\n",
    "\n",
    "        for i, point in enumerate(grid_points):\n",
    "            indices = tree.query_ball_point(point, r=max_distance)\n",
    "            if len(indices) == 0:\n",
    "                avg_vecs[i] = np.array([0.0, 0.0])\n",
    "                continue\n",
    "            neighbor_vecs = xT[indices].cpu().numpy() - x0[indices].cpu().numpy()\n",
    "\n",
    "            avg_vec = neighbor_vecs.mean(axis=0)\n",
    "            avg_vecs[i] = avg_vec\n",
    "\n",
    "        vector_fields.append(avg_vecs)\n",
    "        xTs.append(xT.cpu().numpy())\n",
    "    \n",
    "    return xTs, vector_fields"
   ]
  },
  {
   "cell_type": "code",
   "execution_count": 31,
   "metadata": {},
   "outputs": [
    {
     "name": "stderr",
     "output_type": "stream",
     "text": [
      "/tmp/ipykernel_35192/2247734509.py:2: RuntimeWarning: covariance is not symmetric positive-semidefinite.\n",
      "  data = np.random.multivariate_normal(mean, cov, datanum)\n"
     ]
    },
    {
     "data": {
      "image/png": "[encoded data removed]",
      "text/plain": [
       "<Figure size 800x600 with 1 Axes>"
      ]
     },
     "metadata": {},
     "output_type": "display_data"
    }
   ],
   "source": [
    "def make_sample_data_2d(mean, cov, datanum=200):\n",
    "    data = np.random.multivariate_normal(mean, cov, datanum)\n",
    "    return data\n",
    "\n",
    "datanum = 500\n",
    "mean = np.array([0,0])\n",
    "cov = np.array([[.0,.05], [.05,.0]])\n",
    "data = torch.tensor(make_sample_data_2d(mean, cov, datanum))\n",
    "\n",
    "lim = 3\n",
    "draw_data(data, lim)"
   ]
  },
  {
   "cell_type": "code",
   "execution_count": 35,
   "metadata": {},
   "outputs": [
    {
     "data": {
      "image/png": "[encoded data removed]",
      "text/plain": [
       "<Figure size 800x600 with 1 Axes>"
      ]
     },
     "metadata": {},
     "output_type": "display_data"
    }
   ],
   "source": [
    "t_range = 500\n",
    "min_beta = 1e-3\n",
    "max_beta = 1e-1\n",
    "alpha_bars = make_alpha_bars(min_beta, max_beta, t_range)\n",
    "\n",
    "xTs, training_data = make_training_data(grid_points, data, alpha_bars, t_range=t_range)\n",
    "for i, d in enumerate(training_data):\n",
    "    training_data[i] = vector_field(d, scale=.3)\n",
    "\n",
    "draw_vector_field(grid_points, training_data[499], title='training_data1')\n",
    "\n",
    "# training data 저장\n",
    "# np.savez('xTs_and_vfs.npz', xTs=xTs, training_data=training_data)\n",
    "\n",
    "# training data 로드\n",
    "# loaded = np.load('xTs_and_vfs.npz')\n",
    "# xTs = loaded['xTs']\n",
    "# training_data = loaded['training_data']\n",
    "# draw_vector_field(grid_points, training_data[100], title='training_data2')"
   ]
  }
 ],
 "metadata": {
  "kernelspec": {
   "display_name": "torch-gpu",
   "language": "python",
   "name": "python3"
  },
  "language_info": {
   "codemirror_mode": {
    "name": "ipython",
    "version": 3
   },
   "file_extension": ".py",
   "mimetype": "text/x-python",
   "name": "python",
   "nbconvert_exporter": "python",
   "pygments_lexer": "ipython3",
   "version": "3.12.4"
  }
 },
 "nbformat": 4,
 "nbformat_minor": 2
}
