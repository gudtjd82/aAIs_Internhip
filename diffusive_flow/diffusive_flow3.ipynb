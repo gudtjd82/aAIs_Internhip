{
 "cells": [
  {
   "cell_type": "code",
   "execution_count": 1,
   "metadata": {},
   "outputs": [],
   "source": [
    "import random\n",
    "import numpy as np\n",
    "import torch\n",
    "import torch.nn.functional as F\n",
    "import torch.nn as nn\n",
    "\n",
    "import torch.optim as optim\n",
    "from torch.utils.data import Dataset, DataLoader\n",
    "import torchvision\n",
    "import torchvision.transforms as transforms\n",
    "import torch.optim as optim\n",
    "\n",
    "import matplotlib.pyplot as plt\n",
    "import matplotlib.patches as patches\n",
    "\n",
    "import ipywidgets as widgets\n",
    "\n",
    "from torchvision.utils import save_image, make_grid\n",
    "\n",
    "from scipy.spatial import cKDTree\n",
    "from tqdm import tqdm\n"
   ]
  },
  {
   "cell_type": "code",
   "execution_count": 2,
   "metadata": {},
   "outputs": [
    {
     "data": {
      "text/plain": [
       "device(type='mps')"
      ]
     },
     "execution_count": 2,
     "metadata": {},
     "output_type": "execute_result"
    }
   ],
   "source": [
    "# device = torch.device('cuda' if torch.cuda.is_available else 'cpu')\n",
    "device = torch.device('mps' if torch.backends.mps.is_available() else 'cpu')\n",
    "device"
   ]
  },
  {
   "cell_type": "code",
   "execution_count": 3,
   "metadata": {},
   "outputs": [],
   "source": [
    "class MyModel(nn.Module):\n",
    "    def __init__(self, embed_dim=64, hidden_dim=128, output_dim=2, t_range=500, t_step=20):\n",
    "        super(MyModel, self).__init__()\n",
    "\n",
    "        self.t_step = t_step\n",
    "        \n",
    "        self.x_embedding = nn.Linear(2, embed_dim)\n",
    "        \n",
    "        self.t_embedding = nn.Sequential(\n",
    "            nn.Embedding(t_range*t_step, embed_dim),\n",
    "            nn.ReLU(),\n",
    "            nn.Linear(embed_dim, embed_dim),\n",
    "            nn.ReLU(),\n",
    "        )\n",
    "\n",
    "        self.fc = nn.Sequential(\n",
    "            nn.Linear(embed_dim*2, hidden_dim),\n",
    "            nn.ReLU(),\n",
    "            nn.Linear(hidden_dim, hidden_dim),\n",
    "            nn.ReLU(),\n",
    "            nn.Linear(hidden_dim, hidden_dim),\n",
    "            nn.ReLU(),\n",
    "            nn.Linear(hidden_dim, hidden_dim),\n",
    "            nn.ReLU(),\n",
    "            nn.Linear(hidden_dim, output_dim)\n",
    "        )\n",
    "    \n",
    "    def forward(self, xT, t_tensor):\n",
    "        # t_tensor = torch.full((xT.size(0),1), t*self.t_step)\n",
    "        t_tensor = t_tensor * self.t_step\n",
    "        embeded_xT = self.x_embedding(xT)\n",
    "        embeded_t = self.t_embedding(t_tensor).squeeze(1)\n",
    "        cat_embeded = torch.cat((embeded_xT, embeded_t), dim=1)\n",
    "\n",
    "        out = self.fc(cat_embeded)\n",
    "        return out\n",
    "\n"
   ]
  },
  {
   "cell_type": "code",
   "execution_count": 4,
   "metadata": {},
   "outputs": [],
   "source": [
    "# diffuse 관련 변수 및 함수 정의\n",
    "\n",
    "def make_beta_alpha(min_beta, max_beta, t_range, device=device):\n",
    "    betas = torch.linspace(min_beta, max_beta, t_range).to(device)\n",
    "    alphas = 1 - betas\n",
    "    alpha_bars = torch.tensor([torch.prod(alphas[:(i+1)]) for i in range(t_range)]).to(device)\n",
    "    return betas, alphas, alpha_bars\n",
    "\n",
    "def diffuse_x(x0, t, alpha_bars, eta=None, device=device):\n",
    "    if not isinstance(x0, torch.Tensor):\n",
    "        x0 = torch.tensor(x0).to(device)\n",
    "    else:\n",
    "        x0 = x0.to(device)\n",
    "        \n",
    "    n, d = x0.shape\n",
    "    a_bar = alpha_bars[t]\n",
    "\n",
    "    if eta is None:\n",
    "        eta = torch.randn(n, d).to(device)\n",
    "    \n",
    "    xT = a_bar.sqrt().view(-1,1) * x0 + (1 - a_bar).sqrt().view(-1,1) * eta\n",
    "\n",
    "    return xT"
   ]
  },
  {
   "cell_type": "code",
   "execution_count": 5,
   "metadata": {},
   "outputs": [],
   "source": [
    "# make vector field\n",
    "def vector_field(vectors, scale=0.5):\n",
    "    vf = vectors * scale\n",
    "    return vf"
   ]
  },
  {
   "cell_type": "code",
   "execution_count": 6,
   "metadata": {},
   "outputs": [],
   "source": [
    "# grid 생성\n",
    "def make_grid(lim, n, device=device):\n",
    "    x = np.linspace(-lim, lim, n)\n",
    "    y = np.linspace(-lim, lim, n)\n",
    "    X, Y = np.meshgrid(x, y)   # 20x20, 20x20\n",
    "    X = X.reshape([-1,1])   # 20^2 x 1\n",
    "    Y = Y.reshape([-1,1])   # 20^2 x 1\n",
    "\n",
    "    grid_points = np.concatenate([X, Y], axis=1)\n",
    "    return torch.tensor(grid_points, device=device, dtype=torch.float32)\n",
    "\n",
    "grid_points = make_grid(5, 20)"
   ]
  },
  {
   "cell_type": "code",
   "execution_count": 7,
   "metadata": {},
   "outputs": [],
   "source": [
    "def draw_data(data, lim=5, title_str='Data', color='blue'):\n",
    "    if isinstance(data, torch.Tensor):\n",
    "        data = data.cpu()\n",
    "\n",
    "    fig, ax = plt.subplots(figsize=(8, 6))\n",
    "    ax.scatter(data[:,0], data[:,1], label='data', c=color, alpha=1, s=5)\n",
    "    ax.set_xlim(-lim, lim)\n",
    "    ax.set_ylim(-lim, lim)\n",
    "    ax.set_xlabel('X')\n",
    "    ax.set_ylabel('Y')\n",
    "    ax.set_title(title_str)\n",
    "    ax.grid(True)\n",
    "\n",
    "    plt.close(fig)\n",
    "\n",
    "    return fig"
   ]
  },
  {
   "cell_type": "code",
   "execution_count": 8,
   "metadata": {},
   "outputs": [],
   "source": [
    "def draw_vector_field(grid_points, vf, scale=5, color='blue', width=0.003, title='Vector Field'):\n",
    "    if isinstance(grid_points, torch.Tensor):\n",
    "        grid_points = grid_points.cpu().detach().numpy()\n",
    "    if isinstance(vf, torch.Tensor):\n",
    "        vf = vf.cpu().detach().numpy()\n",
    "        \n",
    "    X = grid_points[:, 0]\n",
    "    Y = grid_points[:, 1]\n",
    "    \n",
    "    U = vf[:, 0]\n",
    "    V = vf[:, 1]\n",
    "\n",
    "    plt.figure(figsize=(8, 6))\n",
    "    plt.quiver(X, Y, U, V, scale=scale, color=color, width=width)\n",
    "    plt.xlabel('X')\n",
    "    plt.xlabel('Y')\n",
    "    plt.title(title)\n",
    "    plt.grid(True)\n",
    "    plt.show()"
   ]
  },
  {
   "cell_type": "code",
   "execution_count": 9,
   "metadata": {},
   "outputs": [],
   "source": [
    "def make_training_data(grid_points, data, alpha_bars, eta=None, t_range=200, max_distance=0.5, device=device):\n",
    "    if not isinstance(data, torch.Tensor):\n",
    "        x0 = torch.tensor(data).to(device)\n",
    "    else:\n",
    "        x0 = data.to(device)\n",
    "\n",
    "    if eta is None:\n",
    "        eta = torch.randn_like(x0).to(device)\n",
    "\n",
    "    vector_fields = []\n",
    "    xTs = []\n",
    "\n",
    "    for t in range(t_range):\n",
    "        xT = diffuse_x(x0, t, alpha_bars, eta=eta)\n",
    "        xTs.append(xT.clone().detach().cpu().numpy())\n",
    "        \n",
    "        tree = cKDTree(x0.detach().cpu().numpy())\n",
    "\n",
    "        if isinstance(grid_points, torch.Tensor):\n",
    "            grid_points = grid_points.detach().cpu().numpy()\n",
    "\n",
    "        avg_vecs = np.zeros_like(grid_points)\n",
    "\n",
    "        for i, point in enumerate(grid_points):\n",
    "            indices = tree.query_ball_point(point, r=max_distance)\n",
    "            if len(indices) == 0:\n",
    "                avg_vecs[i] = np.array([0.0, 0.0])\n",
    "                continue\n",
    "            neighbor_vecs = xT[indices].cpu().numpy() - x0[indices].cpu().numpy()\n",
    "\n",
    "            avg_vec = neighbor_vecs.mean(axis=0)\n",
    "            avg_vecs[i] = avg_vec.copy()\n",
    "\n",
    "        vector_fields.append(avg_vecs.copy())\n",
    "        \n",
    "    \n",
    "    return xTs, vector_fields"
   ]
  },
  {
   "cell_type": "code",
   "execution_count": 10,
   "metadata": {},
   "outputs": [],
   "source": [
    "def make_sample_data_2d(mean, cov, datanum=200):\n",
    "    data = np.random.multivariate_normal(mean, cov, datanum)\n",
    "    data = np.array(data, dtype=np.float32)\n",
    "    return data.copy()\n",
    "\n",
    "# mean = np.array([0,0])\n",
    "# cov = np.array([[.01,.001], [.001,.01]])\n",
    "# data = torch.tensor(make_sample_data_2d(mean, cov, datanum))\n",
    "\n",
    "# lim = 5\n",
    "# fig = draw_data(data, lim)\n",
    "# display(fig)"
   ]
  },
  {
   "cell_type": "code",
   "execution_count": 11,
   "metadata": {},
   "outputs": [],
   "source": [
    "t_range = 100\n",
    "min_beta = 1e-4\n",
    "max_beta = 1e-2\n",
    "scale = 1000 / t_range\n",
    "betas, alphas, alpha_bars = make_beta_alpha(min_beta * scale, max_beta * scale, t_range)"
   ]
  },
  {
   "cell_type": "markdown",
   "metadata": {},
   "source": [
    "### diffuse 시각화"
   ]
  },
  {
   "cell_type": "code",
   "execution_count": 12,
   "metadata": {},
   "outputs": [],
   "source": [
    "datanum = 500\n",
    "mean = np.array([0,0])\n",
    "cov = np.array([[.01,.001], [.001,.01]])\n",
    "data = torch.tensor(make_sample_data_2d(mean, cov, datanum)).to(device)\n",
    "xTs_diffused = [data.clone().detach().cpu().numpy()]\n",
    "\n",
    "eta = torch.randn_like(data).to(device)\n",
    "for t in range(t_range):\n",
    "    xT = diffuse_x(data, t, alpha_bars, eta=eta)\n",
    "    xTs_diffused.append(xT.clone().detach().cpu().numpy())"
   ]
  },
  {
   "cell_type": "code",
   "execution_count": 13,
   "metadata": {},
   "outputs": [
    {
     "data": {
      "application/vnd.jupyter.widget-view+json": {
       "model_id": "ceeb7ca735474a23899d05fbce78cb66",
       "version_major": 2,
       "version_minor": 0
      },
      "text/plain": [
       "interactive(children=(IntSlider(value=0, description='t', max=99), Output()), _dom_classes=('widget-interact',…"
      ]
     },
     "metadata": {},
     "output_type": "display_data"
    },
    {
     "data": {
      "text/plain": [
       "<function __main__.update(t)>"
      ]
     },
     "execution_count": 13,
     "metadata": {},
     "output_type": "execute_result"
    }
   ],
   "source": [
    "t_slider = widgets.IntSlider(value=0, min=0, max=t_range-1, step=1, description='t')\n",
    "def update(t):\n",
    "    with torch.no_grad():\n",
    "        fig = draw_data(xTs_diffused[t], 5, title_str=\"X_T at T = {}\".format(t))\n",
    "        display(fig)\n",
    "        plt.close(fig)\n",
    "        \n",
    "widgets.interact(update, t=t_slider)"
   ]
  },
  {
   "cell_type": "markdown",
   "metadata": {},
   "source": [
    "### model 학습"
   ]
  },
  {
   "cell_type": "code",
   "execution_count": 22,
   "metadata": {},
   "outputs": [],
   "source": [
    "t_step = 50\n",
    "model = MyModel(embed_dim=64, hidden_dim=128, output_dim=2, t_range=t_range, t_step=t_step).to(device)"
   ]
  },
  {
   "cell_type": "code",
   "execution_count": 23,
   "metadata": {},
   "outputs": [
    {
     "name": "stderr",
     "output_type": "stream",
     "text": [
      "Training Epochs: 100%|██████████| 1000/1000 [06:01<00:00,  2.76it/s]\n"
     ]
    }
   ],
   "source": [
    "epochs = 1_000\n",
    "learning_rate = 0.1\n",
    "losses = []\n",
    "\n",
    "criterion = nn.MSELoss()\n",
    "optimizer = optim.SGD(model.parameters(), lr=learning_rate)\n",
    "for eopch in tqdm(range(epochs), desc='Training Epochs'):\n",
    "    shuffle_t = np.random.permutation(t_range)\n",
    "    for t in range(t_range):\n",
    "        optimizer.zero_grad()\n",
    "\n",
    "        datanum = 500\n",
    "        mean = np.array([0, 0])\n",
    "        cov = np.array([[.01,.001], [.001,.01]])\n",
    "        data = torch.tensor(make_sample_data_2d(mean, cov, datanum)).to(device)\n",
    "\n",
    "        # t = torch.randint(0, t_range, (1,)).item()\n",
    "\n",
    "        eta = torch.randn_like(data).to(device)\n",
    "        xT = diffuse_x(data, t, alpha_bars, eta=eta).to(device)\n",
    "        t_tensor = torch.full((xT.size(0),1), t).to(device)\n",
    "\n",
    "        ouput = model(xT, t_tensor)\n",
    "\n",
    "        # eta_for_obj = (1/(1-alpha_bars[t])) * (xT - alpha_bars[t] * data)\n",
    "        loss = criterion(ouput.to(device), eta.to(device))\n",
    "\n",
    "        loss.backward()\n",
    "        optimizer.step()\n",
    "        # loss = criterion(eta_for_obj.to(device), ouput.to(device))\n",
    "    losses.append(loss.item())\n",
    "\n",
    "print(\"Final loss: {}\".format( losses[-1]))"
   ]
  },
  {
   "cell_type": "code",
   "execution_count": 27,
   "metadata": {},
   "outputs": [
    {
     "ename": "ValueError",
     "evalue": "x and y must have same first dimension, but have shapes (1000,) and (100000,)",
     "output_type": "error",
     "traceback": [
      "\u001b[0;31m---------------------------------------------------------------------------\u001b[0m",
      "\u001b[0;31mValueError\u001b[0m                                Traceback (most recent call last)",
      "Cell \u001b[0;32mIn[27], line 1\u001b[0m\n\u001b[0;32m----> 1\u001b[0m \u001b[43mplt\u001b[49m\u001b[38;5;241;43m.\u001b[39;49m\u001b[43mplot\u001b[49m\u001b[43m(\u001b[49m\u001b[38;5;28;43mrange\u001b[39;49m\u001b[43m(\u001b[49m\u001b[43mepochs\u001b[49m\u001b[43m)\u001b[49m\u001b[43m,\u001b[49m\u001b[43m \u001b[49m\u001b[43mlosses\u001b[49m\u001b[43m)\u001b[49m\n\u001b[1;32m      2\u001b[0m plt\u001b[38;5;241m.\u001b[39mylabel(\u001b[38;5;124m'\u001b[39m\u001b[38;5;124mLoss\u001b[39m\u001b[38;5;124m'\u001b[39m)\n\u001b[1;32m      3\u001b[0m plt\u001b[38;5;241m.\u001b[39mxlabel(\u001b[38;5;124m'\u001b[39m\u001b[38;5;124mEpoch\u001b[39m\u001b[38;5;124m'\u001b[39m)\n",
      "File \u001b[0;32m~/anaconda3/envs/torch-gpu/lib/python3.12/site-packages/matplotlib/pyplot.py:3794\u001b[0m, in \u001b[0;36mplot\u001b[0;34m(scalex, scaley, data, *args, **kwargs)\u001b[0m\n\u001b[1;32m   3786\u001b[0m \u001b[39m@_copy_docstring_and_deprecators\u001b[39m(Axes\u001b[39m.\u001b[39mplot)\n\u001b[1;32m   3787\u001b[0m \u001b[39mdef\u001b[39;00m \u001b[39mplot\u001b[39m(\n\u001b[1;32m   3788\u001b[0m     \u001b[39m*\u001b[39margs: \u001b[39mfloat\u001b[39m \u001b[39m|\u001b[39m ArrayLike \u001b[39m|\u001b[39m \u001b[39mstr\u001b[39m,\n\u001b[0;32m   (...)\u001b[0m\n\u001b[1;32m   3792\u001b[0m     \u001b[39m*\u001b[39m\u001b[39m*\u001b[39mkwargs,\n\u001b[1;32m   3793\u001b[0m ) \u001b[39m-\u001b[39m\u001b[39m>\u001b[39m \u001b[39mlist\u001b[39m[Line2D]:\n\u001b[0;32m-> 3794\u001b[0m     \u001b[39mreturn\u001b[39;00m gca()\u001b[39m.\u001b[39;49mplot(\n\u001b[1;32m   3795\u001b[0m         \u001b[39m*\u001b[39;49margs,\n\u001b[1;32m   3796\u001b[0m         scalex\u001b[39m=\u001b[39;49mscalex,\n\u001b[1;32m   3797\u001b[0m         scaley\u001b[39m=\u001b[39;49mscaley,\n\u001b[1;32m   3798\u001b[0m         \u001b[39m*\u001b[39;49m\u001b[39m*\u001b[39;49m({\u001b[39m\"\u001b[39;49m\u001b[39mdata\u001b[39;49m\u001b[39m\"\u001b[39;49m: data} \u001b[39mif\u001b[39;49;00m data \u001b[39mis\u001b[39;49;00m \u001b[39mnot\u001b[39;49;00m \u001b[39mNone\u001b[39;49;00m \u001b[39melse\u001b[39;49;00m {}),\n\u001b[1;32m   3799\u001b[0m         \u001b[39m*\u001b[39;49m\u001b[39m*\u001b[39;49mkwargs,\n\u001b[1;32m   3800\u001b[0m     )\n",
      "File \u001b[0;32m~/anaconda3/envs/torch-gpu/lib/python3.12/site-packages/matplotlib/axes/_axes.py:1779\u001b[0m, in \u001b[0;36mAxes.plot\u001b[0;34m(self, scalex, scaley, data, *args, **kwargs)\u001b[0m\n\u001b[1;32m   1536\u001b[0m \u001b[39m\u001b[39m\u001b[39m\"\"\"\u001b[39;00m\n\u001b[1;32m   1537\u001b[0m \u001b[39mPlot y versus x as lines and/or markers.\u001b[39;00m\n\u001b[1;32m   1538\u001b[0m \n\u001b[0;32m   (...)\u001b[0m\n\u001b[1;32m   1776\u001b[0m \u001b[39m(``'green'``) or hex strings (``'#008000'``).\u001b[39;00m\n\u001b[1;32m   1777\u001b[0m \u001b[39m\"\"\"\u001b[39;00m\n\u001b[1;32m   1778\u001b[0m kwargs \u001b[39m=\u001b[39m cbook\u001b[39m.\u001b[39mnormalize_kwargs(kwargs, mlines\u001b[39m.\u001b[39mLine2D)\n\u001b[0;32m-> 1779\u001b[0m lines \u001b[39m=\u001b[39m [\u001b[39m*\u001b[39m\u001b[39mself\u001b[39m\u001b[39m.\u001b[39m_get_lines(\u001b[39mself\u001b[39m, \u001b[39m*\u001b[39margs, data\u001b[39m=\u001b[39mdata, \u001b[39m*\u001b[39m\u001b[39m*\u001b[39mkwargs)]\n\u001b[1;32m   1780\u001b[0m \u001b[39mfor\u001b[39;00m line \u001b[39min\u001b[39;00m lines:\n\u001b[1;32m   1781\u001b[0m     \u001b[39mself\u001b[39m\u001b[39m.\u001b[39madd_line(line)\n",
      "File \u001b[0;32m~/anaconda3/envs/torch-gpu/lib/python3.12/site-packages/matplotlib/axes/_base.py:296\u001b[0m, in \u001b[0;36m_process_plot_var_args.__call__\u001b[0;34m(self, axes, data, *args, **kwargs)\u001b[0m\n\u001b[1;32m    294\u001b[0m     this \u001b[39m+\u001b[39m\u001b[39m=\u001b[39m args[\u001b[39m0\u001b[39m],\n\u001b[1;32m    295\u001b[0m     args \u001b[39m=\u001b[39m args[\u001b[39m1\u001b[39m:]\n\u001b[0;32m--> 296\u001b[0m \u001b[39myield from\u001b[39;00m \u001b[39mself\u001b[39;49m\u001b[39m.\u001b[39;49m_plot_args(\n\u001b[1;32m    297\u001b[0m     axes, this, kwargs, ambiguous_fmt_datakey\u001b[39m=\u001b[39;49mambiguous_fmt_datakey)\n",
      "File \u001b[0;32m~/anaconda3/envs/torch-gpu/lib/python3.12/site-packages/matplotlib/axes/_base.py:486\u001b[0m, in \u001b[0;36m_process_plot_var_args._plot_args\u001b[0;34m(self, axes, tup, kwargs, return_kwargs, ambiguous_fmt_datakey)\u001b[0m\n\u001b[1;32m    483\u001b[0m     axes\u001b[39m.\u001b[39myaxis\u001b[39m.\u001b[39mupdate_units(y)\n\u001b[1;32m    485\u001b[0m \u001b[39mif\u001b[39;00m x\u001b[39m.\u001b[39mshape[\u001b[39m0\u001b[39m] \u001b[39m!=\u001b[39m y\u001b[39m.\u001b[39mshape[\u001b[39m0\u001b[39m]:\n\u001b[0;32m--> 486\u001b[0m     \u001b[39mraise\u001b[39;00m \u001b[39mValueError\u001b[39;00m(\u001b[39mf\u001b[39m\u001b[39m\"\u001b[39m\u001b[39mx and y must have same first dimension, but \u001b[39m\u001b[39m\"\u001b[39m\n\u001b[1;32m    487\u001b[0m                      \u001b[39mf\u001b[39m\u001b[39m\"\u001b[39m\u001b[39mhave shapes \u001b[39m\u001b[39m{\u001b[39;00mx\u001b[39m.\u001b[39mshape\u001b[39m}\u001b[39;00m\u001b[39m and \u001b[39m\u001b[39m{\u001b[39;00my\u001b[39m.\u001b[39mshape\u001b[39m}\u001b[39;00m\u001b[39m\"\u001b[39m)\n\u001b[1;32m    488\u001b[0m \u001b[39mif\u001b[39;00m x\u001b[39m.\u001b[39mndim \u001b[39m>\u001b[39m \u001b[39m2\u001b[39m \u001b[39mor\u001b[39;00m y\u001b[39m.\u001b[39mndim \u001b[39m>\u001b[39m \u001b[39m2\u001b[39m:\n\u001b[1;32m    489\u001b[0m     \u001b[39mraise\u001b[39;00m \u001b[39mValueError\u001b[39;00m(\u001b[39mf\u001b[39m\u001b[39m\"\u001b[39m\u001b[39mx and y can be no greater than 2D, but have \u001b[39m\u001b[39m\"\u001b[39m\n\u001b[1;32m    490\u001b[0m                      \u001b[39mf\u001b[39m\u001b[39m\"\u001b[39m\u001b[39mshapes \u001b[39m\u001b[39m{\u001b[39;00mx\u001b[39m.\u001b[39mshape\u001b[39m}\u001b[39;00m\u001b[39m and \u001b[39m\u001b[39m{\u001b[39;00my\u001b[39m.\u001b[39mshape\u001b[39m}\u001b[39;00m\u001b[39m\"\u001b[39m)\n",
      "\u001b[0;31mValueError\u001b[0m: x and y must have same first dimension, but have shapes (1000,) and (100000,)"
     ]
    },
    {
     "data": {
      "image/png": "[encoded data removed]",
      "text/plain": [
       "<Figure size 640x480 with 1 Axes>"
      ]
     },
     "metadata": {},
     "output_type": "display_data"
    }
   ],
   "source": [
    "plt.plot(range(epochs), losses)\n",
    "plt.ylabel('Loss')\n",
    "plt.xlabel('Epoch')\n",
    "plt.show()"
   ]
  },
  {
   "cell_type": "code",
   "execution_count": null,
   "metadata": {},
   "outputs": [],
   "source": [
    "plt.plot(range(epochs), losses)\n",
    "plt.ylabel('Loss')\n",
    "plt.xlabel('Epoch')\n",
    "plt.show()\n",
    "print(\"Final loss: {}\".format( losses[-1]))"
   ]
  },
  {
   "cell_type": "markdown",
   "metadata": {},
   "source": [
    "### 학습된 model로 reverse process"
   ]
  },
  {
   "cell_type": "code",
   "execution_count": 24,
   "metadata": {},
   "outputs": [
    {
     "data": {
      "image/png": "[encoded data removed]",
      "text/plain": [
       "<Figure size 800x600 with 1 Axes>"
      ]
     },
     "metadata": {},
     "output_type": "display_data"
    }
   ],
   "source": [
    "mean = np.array([0, 0])\n",
    "cov = np.array([[.1, 0.01], [0.01, .1]])\n",
    "data = torch.tensor(make_sample_data_2d(mean, cov, datanum)).to(device)\n",
    "# data = torch.empty((datanum, 2)).normal_()\n",
    "\n",
    "display(draw_data(data, 6))\n",
    "\n",
    "xTs = [data.clone().detach().cpu().numpy()]\n",
    "\n",
    "model.eval()\n",
    "\n",
    "for t in range(t_range-1, -1, -1):\n",
    "    t_tensor = torch.full((xT.size(0),1), t).to(device)\n",
    "    xT_1 = (1 / alphas[t].sqrt())*(data - (betas[t] / (1-alpha_bars[t]).sqrt()) * model(data, t_tensor))\n",
    "\n",
    "    xTs.append(xT_1.clone().detach().cpu().numpy())"
   ]
  },
  {
   "cell_type": "code",
   "execution_count": 25,
   "metadata": {},
   "outputs": [
    {
     "data": {
      "application/vnd.jupyter.widget-view+json": {
       "model_id": "0bb8526667844c6ea81181944e0f4e07",
       "version_major": 2,
       "version_minor": 0
      },
      "text/plain": [
       "interactive(children=(IntSlider(value=99, description='t', max=99), Output()), _dom_classes=('widget-interact'…"
      ]
     },
     "metadata": {},
     "output_type": "display_data"
    },
    {
     "data": {
      "text/plain": [
       "<function __main__.update(t)>"
      ]
     },
     "execution_count": 25,
     "metadata": {},
     "output_type": "execute_result"
    }
   ],
   "source": [
    "t_slider = widgets.IntSlider(value=t_range-1, min=0, max=t_range-1, step=1, description='t')\n",
    "def update(t):\n",
    "    with torch.no_grad():\n",
    "        fig = draw_data(xTs[t], 3, title_str=\"X_T at T = {}\".format(t))\n",
    "        display(fig)\n",
    "        \n",
    "widgets.interact(update, t=t_slider)"
   ]
  },
  {
   "cell_type": "code",
   "execution_count": null,
   "metadata": {},
   "outputs": [],
   "source": [
    "# # mean = np.array([0, 0])\n",
    "# # cov = np.array([[3, 0.3], [0.3, 3]])\n",
    "# data = torch.randn((datanum,2))\n",
    "\n",
    "# # draw_data(data, 6)\n",
    "\n",
    "# xTs = [data.clone().detach().cpu().numpy()]\n",
    "\n",
    "# model.eval()\n",
    "\n",
    "# for t in range(t_range):\n",
    "#     eta = model(data, t)\n",
    "#     xT = diffuse_x(data, t, alpha_bars, eta=eta)\n",
    "\n",
    "#     xTs.append(xT.clone().detach().cpu().numpy())"
   ]
  },
  {
   "cell_type": "code",
   "execution_count": null,
   "metadata": {},
   "outputs": [],
   "source": [
    "# t_slider = widgets.IntSlider(value=0, min=0, max=t_range-1, step=1, description='t')\n",
    "# def update(t):\n",
    "#     with torch.no_grad():\n",
    "#         fig = draw_data(xTs[t], 3, title_str=\"X_T at T = {}\".format(t))\n",
    "#         display(fig)\n",
    "        \n",
    "# widgets.interact(update, t=t_slider)"
   ]
  },
  {
   "cell_type": "code",
   "execution_count": null,
   "metadata": {},
   "outputs": [],
   "source": [
    "# xTs, training_data = make_training_data(grid_points, data, alpha_bars, eta=eta, t_range=t_range)\n",
    "# for i, td in enumerate(training_data):\n",
    "#     training_data[i] = vector_field(td, scale=.3)\n",
    "\n",
    "# # training data 저장\n",
    "# np.savez('xTs_and_vfs.npz', xTs=xTs, training_data=training_data)\n",
    "\n",
    "# # training data 로드\n",
    "# loaded = np.load('xTs_and_vfs.npz')\n",
    "# xTs = loaded['xTs']\n",
    "# training_data = loaded['training_data']"
   ]
  },
  {
   "cell_type": "code",
   "execution_count": null,
   "metadata": {},
   "outputs": [],
   "source": [
    "# draw_data(data)\n",
    "# draw_data(xTs[499])\n",
    "# draw_vector_field(grid_points, training_data[499])"
   ]
  }
 ],
 "metadata": {
  "kernelspec": {
   "display_name": "Python 3.12.2 ('torch-gpu')",
   "language": "python",
   "name": "python3"
  },
  "language_info": {
   "codemirror_mode": {
    "name": "ipython",
    "version": 3
   },
   "file_extension": ".py",
   "mimetype": "text/x-python",
   "name": "python",
   "nbconvert_exporter": "python",
   "pygments_lexer": "ipython3",
   "version": "3.12.2"
  },
  "vscode": {
   "interpreter": {
    "hash": "652d9c878910970460809429ea4d514d2a6a5411db410063005e82113ebfc1c4"
   }
  }
 },
 "nbformat": 4,
 "nbformat_minor": 2
}
