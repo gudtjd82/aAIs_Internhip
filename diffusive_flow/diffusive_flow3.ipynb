{
 "cells": [
  {
   "cell_type": "code",
   "execution_count": 1,
   "metadata": {},
   "outputs": [],
   "source": [
    "import random\n",
    "import numpy as np\n",
    "import torch\n",
    "import torch.nn.functional as F\n",
    "import torch.nn as nn\n",
    "\n",
    "import torch.optim as optim\n",
    "from torch.utils.data import Dataset, DataLoader\n",
    "import torchvision\n",
    "import torchvision.transforms as transforms\n",
    "import torch.optim as optim\n",
    "\n",
    "import matplotlib.pyplot as plt\n",
    "import matplotlib.patches as patches\n",
    "\n",
    "import ipywidgets as widgets\n",
    "\n",
    "from torchvision.utils import save_image, make_grid\n",
    "\n",
    "from scipy.spatial import cKDTree\n",
    "from tqdm import tqdm\n"
   ]
  },
  {
   "cell_type": "code",
   "execution_count": 2,
   "metadata": {},
   "outputs": [
    {
     "data": {
      "text/plain": [
       "device(type='cpu')"
      ]
     },
     "execution_count": 2,
     "metadata": {},
     "output_type": "execute_result"
    }
   ],
   "source": [
    "# device = torch.device('cuda' if torch.cuda.is_available else 'cpu')\n",
    "device = torch.device('mps' if torch.backends.mps.is_available() else 'cpu')\n",
    "device"
   ]
  },
  {
   "cell_type": "code",
   "execution_count": 3,
   "metadata": {},
   "outputs": [],
   "source": [
    "class MyModel(nn.Module):\n",
    "    def __init__(self, embed_dim=64, hidden_dim=64, output_dim=2, t_range=500):\n",
    "        super(MyModel, self).__init__()\n",
    "        \n",
    "        self.x_embedding = nn.Linear(2, embed_dim)\n",
    "        \n",
    "        self.t_embedding = nn.Sequential(\n",
    "            nn.Embedding(t_range, embed_dim),\n",
    "            nn.ReLU(),\n",
    "            nn.Linear(embed_dim, embed_dim),\n",
    "            nn.ReLU(),\n",
    "        )\n",
    "\n",
    "        self.fc = nn.Sequential(\n",
    "            nn.Linear(embed_dim*2, hidden_dim),\n",
    "            nn.ReLU(),\n",
    "            nn.Linear(hidden_dim, hidden_dim),\n",
    "            nn.ReLU(),\n",
    "            nn.Linear(hidden_dim, hidden_dim),\n",
    "            nn.ReLU(),\n",
    "            nn.Linear(hidden_dim, hidden_dim),\n",
    "            nn.ReLU(),\n",
    "            nn.Linear(hidden_dim, output_dim)\n",
    "        )\n",
    "    \n",
    "    def forward(self, xT, t):\n",
    "        t_tensor = torch.full((xT.size(0),1), t)\n",
    "\n",
    "        embeded_xT = self.x_embedding(xT)\n",
    "        embeded_t = self.t_embedding(t_tensor).squeeze(1)\n",
    "        cat_embeded = torch.cat((embeded_xT, embeded_t), dim=1)\n",
    "\n",
    "        out = self.fc(cat_embeded)\n",
    "        return out\n",
    "\n"
   ]
  },
  {
   "cell_type": "code",
   "execution_count": 4,
   "metadata": {},
   "outputs": [],
   "source": [
    "# diffuse 관련 변수 및 함수 정의\n",
    "\n",
    "def make_beta_alpha(min_beta, max_beta, t_range, device=device):\n",
    "    betas = torch.linspace(min_beta, max_beta, t_range).to(device)\n",
    "    alphas = 1 - betas\n",
    "    alpha_bars = torch.tensor([torch.prod(alphas[:(i+1)]) for i in range(t_range)]).to(device)\n",
    "    return betas, alphas, alpha_bars\n",
    "\n",
    "def diffuse_x(x0, t, alpha_bars, eta=None, device=device):\n",
    "    if not isinstance(x0, torch.Tensor):\n",
    "        x0 = torch.tensor(x0).to(device)\n",
    "    else:\n",
    "        x0 = x0.to(device)\n",
    "        \n",
    "    n, d = x0.shape\n",
    "    a_bar = alpha_bars[t]\n",
    "\n",
    "    if eta is None:\n",
    "        eta = torch.randn(n, d).to(device)\n",
    "    \n",
    "    xT = a_bar.sqrt().view(-1,1) * x0 + (1 - a_bar).sqrt().view(-1,1) * eta\n",
    "\n",
    "    return xT"
   ]
  },
  {
   "cell_type": "code",
   "execution_count": 5,
   "metadata": {},
   "outputs": [],
   "source": [
    "# make vector field\n",
    "def vector_field(vectors, scale=0.5):\n",
    "    vf = vectors * scale\n",
    "    return vf"
   ]
  },
  {
   "cell_type": "code",
   "execution_count": 6,
   "metadata": {},
   "outputs": [],
   "source": [
    "# grid 생성\n",
    "def make_grid(lim, n, device=device):\n",
    "    x = np.linspace(-lim, lim, n)\n",
    "    y = np.linspace(-lim, lim, n)\n",
    "    X, Y = np.meshgrid(x, y)   # 20x20, 20x20\n",
    "    X = X.reshape([-1,1])   # 20^2 x 1\n",
    "    Y = Y.reshape([-1,1])   # 20^2 x 1\n",
    "\n",
    "    grid_points = np.concatenate([X, Y], axis=1)\n",
    "    return torch.tensor(grid_points, device=device, dtype=torch.float32)\n",
    "\n",
    "grid_points = make_grid(5, 20)"
   ]
  },
  {
   "cell_type": "code",
   "execution_count": 7,
   "metadata": {},
   "outputs": [],
   "source": [
    "def draw_data(data, lim=5, title_str='Data', color='blue'):\n",
    "    if isinstance(data, torch.Tensor):\n",
    "        data = data.cpu()\n",
    "\n",
    "    fig, ax = plt.subplots(figsize=(8, 6))\n",
    "    ax.scatter(data[:,0], data[:,1], label='data', c=color, alpha=1, s=5)\n",
    "    ax.set_xlim(-lim, lim)\n",
    "    ax.set_ylim(-lim, lim)\n",
    "    ax.set_xlabel('X')\n",
    "    ax.set_ylabel('Y')\n",
    "    ax.set_title(title_str)\n",
    "    ax.grid(True)\n",
    "\n",
    "    plt.close(fig)\n",
    "\n",
    "    return fig"
   ]
  },
  {
   "cell_type": "code",
   "execution_count": 8,
   "metadata": {},
   "outputs": [],
   "source": [
    "def draw_vector_field(grid_points, vf, scale=5, color='blue', width=0.003, title='Vector Field'):\n",
    "    if isinstance(grid_points, torch.Tensor):\n",
    "        grid_points = grid_points.cpu().detach().numpy()\n",
    "    if isinstance(vf, torch.Tensor):\n",
    "        vf = vf.cpu().detach().numpy()\n",
    "        \n",
    "    X = grid_points[:, 0]\n",
    "    Y = grid_points[:, 1]\n",
    "    \n",
    "    U = vf[:, 0]\n",
    "    V = vf[:, 1]\n",
    "\n",
    "    plt.figure(figsize=(8, 6))\n",
    "    plt.quiver(X, Y, U, V, scale=scale, color=color, width=width)\n",
    "    plt.xlabel('X')\n",
    "    plt.xlabel('Y')\n",
    "    plt.title(title)\n",
    "    plt.grid(True)\n",
    "    plt.show()"
   ]
  },
  {
   "cell_type": "code",
   "execution_count": 9,
   "metadata": {},
   "outputs": [],
   "source": [
    "def make_training_data(grid_points, data, alpha_bars, eta=None, t_range=200, max_distance=0.5, device=device):\n",
    "    if not isinstance(data, torch.Tensor):\n",
    "        x0 = torch.tensor(data).to(device)\n",
    "    else:\n",
    "        x0 = data.to(device)\n",
    "\n",
    "    if eta is None:\n",
    "        eta = torch.randn_like(x0).to(device)\n",
    "\n",
    "    vector_fields = []\n",
    "    xTs = []\n",
    "\n",
    "    for t in range(t_range):\n",
    "        xT = diffuse_x(x0, t, alpha_bars, eta=eta)\n",
    "        xTs.append(xT.clone().detach().cpu().numpy())\n",
    "        \n",
    "        tree = cKDTree(x0.detach().cpu().numpy())\n",
    "\n",
    "        if isinstance(grid_points, torch.Tensor):\n",
    "            grid_points = grid_points.detach().cpu().numpy()\n",
    "\n",
    "        avg_vecs = np.zeros_like(grid_points)\n",
    "\n",
    "        for i, point in enumerate(grid_points):\n",
    "            indices = tree.query_ball_point(point, r=max_distance)\n",
    "            if len(indices) == 0:\n",
    "                avg_vecs[i] = np.array([0.0, 0.0])\n",
    "                continue\n",
    "            neighbor_vecs = xT[indices].cpu().numpy() - x0[indices].cpu().numpy()\n",
    "\n",
    "            avg_vec = neighbor_vecs.mean(axis=0)\n",
    "            avg_vecs[i] = avg_vec.copy()\n",
    "\n",
    "        vector_fields.append(avg_vecs.copy())\n",
    "        \n",
    "    \n",
    "    return xTs, vector_fields"
   ]
  },
  {
   "cell_type": "code",
   "execution_count": 10,
   "metadata": {},
   "outputs": [],
   "source": [
    "def make_sample_data_2d(mean, cov, datanum=200):\n",
    "    data = np.random.multivariate_normal(mean, cov, datanum)\n",
    "    data = np.array(data, dtype=np.float32)\n",
    "    return data.copy()\n",
    "\n",
    "datanum = 500\n",
    "# mean = np.array([0,0])\n",
    "# cov = np.array([[.01,.001], [.001,.01]])\n",
    "# data = torch.tensor(make_sample_data_2d(mean, cov, datanum))\n",
    "\n",
    "# lim = 5\n",
    "# fig = draw_data(data, lim)\n",
    "# display(fig)"
   ]
  },
  {
   "cell_type": "code",
   "execution_count": 11,
   "metadata": {},
   "outputs": [],
   "source": [
    "t_range = 100\n",
    "min_beta = 1e-4\n",
    "max_beta = 1e-2\n",
    "scale = 1000 / t_range\n",
    "betas, alphas, alpha_bars = make_beta_alpha(min_beta * scale, max_beta * scale, t_range)"
   ]
  },
  {
   "cell_type": "markdown",
   "metadata": {},
   "source": [
    "### diffuse 시각화"
   ]
  },
  {
   "cell_type": "code",
   "execution_count": 12,
   "metadata": {},
   "outputs": [],
   "source": [
    "data = torch.randn((datanum,2))\n",
    "xTs_diffused = [data.clone().detach().cpu().numpy()]\n",
    "\n",
    "eta = torch.randn_like(data)\n",
    "for t in range(t_range):\n",
    "    xT = diffuse_x(data, t, alpha_bars, eta=eta)\n",
    "    xTs_diffused.append(xT.clone().detach().cpu().numpy())"
   ]
  },
  {
   "cell_type": "code",
   "execution_count": 13,
   "metadata": {},
   "outputs": [
    {
     "data": {
      "application/vnd.jupyter.widget-view+json": {
       "model_id": "eaeebe5cac3d4b03a125f83c007e5d62",
       "version_major": 2,
       "version_minor": 0
      },
      "text/plain": [
       "interactive(children=(IntSlider(value=0, description='t', max=99), Output()), _dom_classes=('widget-interact',…"
      ]
     },
     "metadata": {},
     "output_type": "display_data"
    },
    {
     "data": {
      "text/plain": [
       "<function __main__.update(t)>"
      ]
     },
     "execution_count": 13,
     "metadata": {},
     "output_type": "execute_result"
    }
   ],
   "source": [
    "t_slider = widgets.IntSlider(value=0, min=0, max=t_range-1, step=1, description='t')\n",
    "def update(t):\n",
    "    with torch.no_grad():\n",
    "        fig = draw_data(xTs_diffused[t], 5, title_str=\"X_T at T = {}\".format(t))\n",
    "        display(fig)\n",
    "        plt.close(fig)\n",
    "        \n",
    "widgets.interact(update, t=t_slider)"
   ]
  },
  {
   "cell_type": "markdown",
   "metadata": {},
   "source": [
    "### model 학습"
   ]
  },
  {
   "cell_type": "code",
   "execution_count": 14,
   "metadata": {},
   "outputs": [],
   "source": [
    "model = MyModel(embed_dim=64, hidden_dim=128, output_dim=2, t_range=t_range)"
   ]
  },
  {
   "cell_type": "code",
   "execution_count": 15,
   "metadata": {},
   "outputs": [
    {
     "name": "stderr",
     "output_type": "stream",
     "text": [
      "Training Epochs: 100%|██████████| 100/100 [00:23<00:00,  4.29it/s]\n"
     ]
    }
   ],
   "source": [
    "epochs = 100\n",
    "learning_rate = 0.1\n",
    "losses = []\n",
    "\n",
    "criterion = nn.MSELoss()\n",
    "optimizer = optim.SGD(model.parameters(), lr=learning_rate)\n",
    "for eopch in tqdm(range(epochs), desc='Training Epochs'):\n",
    "    for t in range(t_range):\n",
    "        optimizer.zero_grad()\n",
    "\n",
    "        data = torch.randn((datanum,2))\n",
    "\n",
    "        # t = torch.randint(0, t_range, (1,)).item()\n",
    "\n",
    "        eta = torch.randn_like(data)\n",
    "        xT = diffuse_x(data, t, alpha_bars, eta=eta)\n",
    "\n",
    "        ouput = model(xT, t)\n",
    "\n",
    "        eta_for_obj = (1/(1-alpha_bars[t])) * (xT - alpha_bars[t] * data)\n",
    "        loss = criterion(ouput.to(device), eta.to(device))\n",
    "\n",
    "        losses.append(loss.item())\n",
    "        loss.backward()\n",
    "        optimizer.step()\n",
    "        # loss = criterion(eta_for_obj.to(device), ouput.to(device))"
   ]
  },
  {
   "cell_type": "code",
   "execution_count": 16,
   "metadata": {},
   "outputs": [
    {
     "name": "stdout",
     "output_type": "stream",
     "text": [
      "Final loss: 0.0073899030685424805\n"
     ]
    }
   ],
   "source": [
    "print(\"Final loss: {}\".format( losses[-1]))"
   ]
  },
  {
   "cell_type": "markdown",
   "metadata": {},
   "source": [
    "### 학습된 model로 reverse process"
   ]
  },
  {
   "cell_type": "code",
   "execution_count": 17,
   "metadata": {},
   "outputs": [
    {
     "data": {
      "image/png": "[encoded data removed]",
      "text/plain": [
       "<Figure size 800x600 with 1 Axes>"
      ]
     },
     "metadata": {},
     "output_type": "display_data"
    }
   ],
   "source": [
    "# mean = np.array([0, 0])\n",
    "# cov = np.array([[.1, 0.01], [0.01, .1]])\n",
    "# data = torch.tensor(make_sample_data_2d(mean, cov, 300))\n",
    "data = torch.empty((datanum, 2)).normal_()\n",
    "\n",
    "display(draw_data(data, 6))\n",
    "\n",
    "xTs = [data.clone().detach().cpu().numpy()]\n",
    "\n",
    "model.eval()\n",
    "\n",
    "for t in range(t_range-1, -1, -1):\n",
    "    xT_1 = (1 / alphas[t].sqrt())*(data - (betas[t] / (1-alpha_bars[t]).sqrt()) * model(data, t))\n",
    "\n",
    "    xTs.append(xT_1.clone().detach().cpu().numpy())"
   ]
  },
  {
   "cell_type": "code",
   "execution_count": 18,
   "metadata": {},
   "outputs": [
    {
     "data": {
      "application/vnd.jupyter.widget-view+json": {
       "model_id": "f05aa8d5b2524ea692b95963d4435220",
       "version_major": 2,
       "version_minor": 0
      },
      "text/plain": [
       "interactive(children=(IntSlider(value=99, description='t', max=99), Output()), _dom_classes=('widget-interact'…"
      ]
     },
     "metadata": {},
     "output_type": "display_data"
    },
    {
     "data": {
      "text/plain": [
       "<function __main__.update(t)>"
      ]
     },
     "execution_count": 18,
     "metadata": {},
     "output_type": "execute_result"
    }
   ],
   "source": [
    "t_slider = widgets.IntSlider(value=t_range-1, min=0, max=t_range-1, step=1, description='t')\n",
    "def update(t):\n",
    "    with torch.no_grad():\n",
    "        fig = draw_data(xTs[t], 3, title_str=\"X_T at T = {}\".format(t))\n",
    "        display(fig)\n",
    "        \n",
    "widgets.interact(update, t=t_slider)"
   ]
  },
  {
   "cell_type": "code",
   "execution_count": 19,
   "metadata": {},
   "outputs": [],
   "source": [
    "# # mean = np.array([0, 0])\n",
    "# # cov = np.array([[3, 0.3], [0.3, 3]])\n",
    "# data = torch.randn((datanum,2))\n",
    "\n",
    "# # draw_data(data, 6)\n",
    "\n",
    "# xTs = [data.clone().detach().cpu().numpy()]\n",
    "\n",
    "# model.eval()\n",
    "\n",
    "# for t in range(t_range):\n",
    "#     eta = model(data, t)\n",
    "#     xT = diffuse_x(data, t, alpha_bars, eta=eta)\n",
    "\n",
    "#     xTs.append(xT.clone().detach().cpu().numpy())"
   ]
  },
  {
   "cell_type": "code",
   "execution_count": 20,
   "metadata": {},
   "outputs": [],
   "source": [
    "# t_slider = widgets.IntSlider(value=0, min=0, max=t_range-1, step=1, description='t')\n",
    "# def update(t):\n",
    "#     with torch.no_grad():\n",
    "#         fig = draw_data(xTs[t], 3, title_str=\"X_T at T = {}\".format(t))\n",
    "#         display(fig)\n",
    "        \n",
    "# widgets.interact(update, t=t_slider)"
   ]
  },
  {
   "cell_type": "code",
   "execution_count": 21,
   "metadata": {},
   "outputs": [],
   "source": [
    "# xTs, training_data = make_training_data(grid_points, data, alpha_bars, eta=eta, t_range=t_range)\n",
    "# for i, td in enumerate(training_data):\n",
    "#     training_data[i] = vector_field(td, scale=.3)\n",
    "\n",
    "# # training data 저장\n",
    "# np.savez('xTs_and_vfs.npz', xTs=xTs, training_data=training_data)\n",
    "\n",
    "# # training data 로드\n",
    "# loaded = np.load('xTs_and_vfs.npz')\n",
    "# xTs = loaded['xTs']\n",
    "# training_data = loaded['training_data']"
   ]
  },
  {
   "cell_type": "code",
   "execution_count": 22,
   "metadata": {},
   "outputs": [],
   "source": [
    "# draw_data(data)\n",
    "# draw_data(xTs[499])\n",
    "# draw_vector_field(grid_points, training_data[499])"
   ]
  }
 ],
 "metadata": {
  "kernelspec": {
   "display_name": "torch-gpu",
   "language": "python",
   "name": "python3"
  },
  "language_info": {
   "codemirror_mode": {
    "name": "ipython",
    "version": 3
   },
   "file_extension": ".py",
   "mimetype": "text/x-python",
   "name": "python",
   "nbconvert_exporter": "python",
   "pygments_lexer": "ipython3",
   "version": "3.12.4"
  }
 },
 "nbformat": 4,
 "nbformat_minor": 2
}
